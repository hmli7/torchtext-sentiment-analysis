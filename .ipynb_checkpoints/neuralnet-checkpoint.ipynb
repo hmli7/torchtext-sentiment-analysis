{
 "cells": [
  {
   "cell_type": "markdown",
   "metadata": {},
   "source": [
    " - [ ] try bigram\n",
    " - [ ] use pretraining embeddings"
   ]
  },
  {
   "cell_type": "code",
   "execution_count": 1,
   "metadata": {},
   "outputs": [],
   "source": [
    "import pandas as pd\n",
    "import os\n",
    "import numpy as np"
   ]
  },
  {
   "cell_type": "code",
   "execution_count": 9,
   "metadata": {},
   "outputs": [],
   "source": [
    "input_path = '.'\n",
    "\n",
    "# with open(os.path.join(input_path, 'dev_text.txt'), 'r', encoding='utf-8') as f:\n",
    "#     dev_text = f.read().strip().split('\\n')\n",
    "\n",
    "# with open(os.path.join(input_path, 'heldout_text.txt'), 'r', encoding='utf-8') as f:\n",
    "#     heldout_text = f.read().strip().split('\\n')"
   ]
  },
  {
   "cell_type": "code",
   "execution_count": 3,
   "metadata": {},
   "outputs": [],
   "source": [
    "# dev_label_path = os.path.join(input_path,'dev_label.txt')\n",
    "# with open(dev_label_path, 'r', encoding='utf-8') as f:\n",
    "#     dev_y = f.read().split('\\n')"
   ]
  },
  {
   "cell_type": "markdown",
   "metadata": {},
   "source": [
    "# Prepare data"
   ]
  },
  {
   "cell_type": "code",
   "execution_count": 4,
   "metadata": {},
   "outputs": [],
   "source": [
    "# dev_data = pd.DataFrame({'text':dev_text, 'label':dev_y})\n",
    "\n",
    "# dev_data.to_csv(os.path.join(input_path, 'dev_data.tsv'), sep='\\t',index=False)"
   ]
  },
  {
   "cell_type": "code",
   "execution_count": 5,
   "metadata": {},
   "outputs": [],
   "source": [
    "# test_data = pd.DataFrame({'text':heldout_text})\n",
    "# test_data.to_csv(os.path.join(input_path, 'test_data.tsv'), sep='\\t',index=False)"
   ]
  },
  {
   "cell_type": "markdown",
   "metadata": {},
   "source": [
    "# Load data"
   ]
  },
  {
   "cell_type": "code",
   "execution_count": 7,
   "metadata": {},
   "outputs": [],
   "source": [
    "import torch\n",
    "from torchtext import data\n",
    "import random\n",
    "from torchtext.data import TabularDataset\n",
    "import torch.nn as nn\n",
    "\n",
    "\n",
    "\n",
    "SEED = 1234\n",
    "\n",
    "torch.manual_seed(SEED)\n",
    "# torch.backends.cudnn.deterministic = True\n",
    "\n",
    "TEXT = data.Field(tokenize = 'spacy', include_lengths = True)\n",
    "LABEL = data.LabelField(dtype=str)"
   ]
  },
  {
   "cell_type": "code",
   "execution_count": 10,
   "metadata": {},
   "outputs": [],
   "source": [
    "dev_datafields = [(\"text\", TEXT), (\"label\", LABEL)]\n",
    "dev_dataset = TabularDataset(\n",
    "               path=os.path.join(input_path, 'dev_data.tsv'),\n",
    "               format='tsv',\n",
    "               skip_header=True,\n",
    "               fields=dev_datafields)\n",
    "\n",
    "test_datafields = [(\"text\", TEXT)]\n",
    "test_dataset = TabularDataset(\n",
    "           path=os.path.join(input_path, 'test_data.tsv'),\n",
    "           format='csv',\n",
    "           skip_header=True,\n",
    "           fields=test_datafields)"
   ]
  },
  {
   "cell_type": "code",
   "execution_count": 11,
   "metadata": {},
   "outputs": [],
   "source": [
    "train_dataset, valid_dataset = dev_dataset.split(split_ratio=0.7, random_state = random.seed(SEED))"
   ]
  },
  {
   "cell_type": "code",
   "execution_count": 16,
   "metadata": {},
   "outputs": [],
   "source": [
    "TEXT.build_vocab(train_dataset, \n",
    "                 max_size = 40000, \n",
    "#                  vectors = \"glove.6B.100d\",\n",
    "#                  unk_init = torch.Tensor.normal_\n",
    "                )\n",
    "LABEL.build_vocab(train_dataset)"
   ]
  },
  {
   "cell_type": "code",
   "execution_count": 19,
   "metadata": {},
   "outputs": [],
   "source": [
    "BATCH_SIZE = 64\n",
    "\n",
    "device = torch.device('cuda' if torch.cuda.is_available() else 'cpu')\n",
    "\n",
    "train_iterator, valid_iterator = data.BucketIterator.splits(\n",
    "    (train_dataset, valid_dataset), \n",
    "    batch_size = BATCH_SIZE,\n",
    "    device = device,\n",
    "    sort = True,\n",
    "    sort_key = lambda x: len(x.comment_text),\n",
    "    sort_within_batch = True) #sort by length for padding\n",
    "test_iterator = data.Iterator(\n",
    "    test_dataset,\n",
    "    batch_size = BATCH_SIZE, \n",
    "    device = device, \n",
    "    sort = False, \n",
    "    sort_key = lambda x: len(x.comment_text),\n",
    "    sort_within_batch = True, \n",
    "    repeat = False)"
   ]
  },
  {
   "cell_type": "code",
   "execution_count": 20,
   "metadata": {},
   "outputs": [
    {
     "data": {
      "text/plain": [
       "['A', 'very', 'well', 'made', 'film']"
      ]
     },
     "execution_count": 20,
     "metadata": {},
     "output_type": "execute_result"
    }
   ],
   "source": [
    "train_dataset[0].text[:5]"
   ]
  },
  {
   "cell_type": "code",
   "execution_count": 21,
   "metadata": {},
   "outputs": [
    {
     "data": {
      "text/plain": [
       "[('the', 15700)]"
      ]
     },
     "execution_count": 21,
     "metadata": {},
     "output_type": "execute_result"
    }
   ],
   "source": [
    "TEXT.vocab.freqs.most_common(1)"
   ]
  },
  {
   "cell_type": "code",
   "execution_count": 22,
   "metadata": {},
   "outputs": [
    {
     "name": "stdout",
     "output_type": "stream",
     "text": [
      "defaultdict(<function _default_unk_index at 0x7f31ec5ab158>, {'neg': 0, 'pos': 1})\n"
     ]
    }
   ],
   "source": [
    "print(LABEL.vocab.stoi)"
   ]
  },
  {
   "cell_type": "markdown",
   "metadata": {},
   "source": [
    "# Define model"
   ]
  },
  {
   "cell_type": "code",
   "execution_count": 23,
   "metadata": {},
   "outputs": [],
   "source": [
    "class BaselineLstm(nn.Module):\n",
    "    def __init__(self, vocab_size, embed_size, hidden_size, output_dim, nlayers, dropout, pad_idx):\n",
    "        super(BaselineLstm, self).__init__()\n",
    "        # input padding index to embedding to prevent training embedding for paddings\n",
    "        self.embedding = nn.Embedding(vocab_size, embed_size, padding_idx = pad_idx)\n",
    "        self.lstm = nn.LSTM(embed_size, \n",
    "                           hidden_size, \n",
    "                           num_layers=nlayers, \n",
    "                           bidirectional=True, \n",
    "                           dropout=dropout)\n",
    "        self.fc = nn.Linear(hidden_size * 2, output_dim)\n",
    "        self.dropout = nn.Dropout(dropout)\n",
    "    def forward(self, text, text_lengths):\n",
    "        \n",
    "        # [sent len, batch size]\n",
    "        embedded = self.dropout(self.embedding(text)) #[sent len, batch size, emb dim]\n",
    "        packed_embedded = nn.utils.rnn.pack_padded_sequence(embedded, text_lengths)\n",
    "        packed_output, (hidden, cell) = self.lstm(packed_embedded)\n",
    "#         #unpack sequence\n",
    "#         output, output_lengths = nn.utils.rnn.pad_packed_sequence(packed_output) # [sent len, batch size, hid dim * num directions]\n",
    "        # [forward_layer_0, backward_layer_0, forward_layer_1, backward_layer 1, ..., forward_layer_n, backward_layer n]\n",
    "        # use the top two hidden layers \n",
    "        hidden = self.dropout(torch.cat((hidden[-2,:,:], hidden[-1,:,:]), dim = 1))\n",
    "        return self.fc(hidden.squeeze(0))"
   ]
  },
  {
   "cell_type": "code",
   "execution_count": 24,
   "metadata": {},
   "outputs": [],
   "source": [
    "model = BaselineLstm(vocab_size=len(TEXT.vocab), \n",
    "                    embed_size=400, \n",
    "                    hidden_size=256, \n",
    "                    output_dim=1, \n",
    "                    nlayers=3,\n",
    "                    dropout=0.2, \n",
    "                    pad_idx=TEXT.vocab.stoi[TEXT.pad_token])"
   ]
  },
  {
   "cell_type": "code",
   "execution_count": 25,
   "metadata": {},
   "outputs": [
    {
     "data": {
      "text/plain": [
       "BaselineLstm(\n",
       "  (embedding): Embedding(27331, 400, padding_idx=1)\n",
       "  (lstm): LSTM(400, 256, num_layers=3, dropout=0.2, bidirectional=True)\n",
       "  (fc): Linear(in_features=512, out_features=1, bias=True)\n",
       "  (dropout): Dropout(p=0.2)\n",
       ")"
      ]
     },
     "execution_count": 25,
     "metadata": {},
     "output_type": "execute_result"
    }
   ],
   "source": [
    "model"
   ]
  },
  {
   "cell_type": "code",
   "execution_count": null,
   "metadata": {},
   "outputs": [],
   "source": [
    "def run(model, optimizer, train_dataloader, valid_dataloader, best_epoch, best_vali_loss, start_epoch=None):\n",
    "    best_eval = None\n",
    "    start_epoch = 0 if start_epoch is None else start_epoch\n",
    "    max_epoch = config.max_epoch\n",
    "    batch_size = config.batch_size\n",
    "    \n",
    "    model = model.cuda() if torch.cuda.is_available() else model\n",
    "    \n",
    "    ctc = CTCCriterion(size_average=True)\n",
    "#     ctc = nn.CTCLoss()\n",
    "    for epoch in range(start_epoch, max_epoch+1):\n",
    "        start_time = time.time()\n",
    "        model.train()\n",
    "        # outputs records\n",
    "        f = open(os.path.join(paths.output_path,'metrics.txt'), 'a')\n",
    "        print_file_and_screen('### Epoch %5d' % (epoch), f=f)\n",
    "        \n",
    "        avg_loss = 0\n",
    "        num_batches = len(train_dataloader)\n",
    "        for batch, (data_batch, label_batch) in enumerate(train_dataloader): # lists, presorted, preloaded on GPU\n",
    "            optimizer.zero_grad()\n",
    "            phoneme, input_lengths = model(data_batch)\n",
    "            target_lengths = torch.tensor([len(seq_labels) for seq_labels in label_batch])\n",
    "            loss = ctc.forward((phoneme, input_lengths, target_lengths), torch.cat(label_batch))\n",
    "\n",
    "            loss.backward()\n",
    "            optimizer.step()\n",
    "            avg_loss += loss.item()\n",
    "            if batch%50 == 49:\n",
    "                print_file_and_screen('Epoch: {}\\tBatch: {}\\tAvg-Loss: {:.4f}'.format(epoch, batch+1, avg_loss/50), f = f)\n",
    "                avg_loss = 0.0\n",
    "            # clear memory\n",
    "            torch.cuda.empty_cache()\n",
    "            data_batch = data_batch.detach()\n",
    "            label_batch = label_batch.detach()\n",
    "            del data_batch\n",
    "            del label_batch\n",
    "            del loss\n",
    "                \n",
    "        train_loss = test_validation(model, train_dataloader)\n",
    "        val_loss = test_validation(model, valid_dataloader)\n",
    "        print_file_and_screen('Train Loss: {:.4f}\\tVal Loss: {:.4f}\\t'.format(train_loss, val_loss), f=f)\n",
    "        \n",
    "        # check whether the best\n",
    "        if val_loss < best_vali_loss:\n",
    "            best_vali_loss = val_loss\n",
    "            best_epoch = epoch\n",
    "            is_best = True\n",
    "        else:\n",
    "            is_best = False\n",
    "        \n",
    "        with torch.no_grad():\n",
    "            avg_ldistance = run_eval(model, valid_dataloader)\n",
    "        print_file_and_screen('vali_distance: {:.4f}\\t'.format(avg_ldistance), f=f)\n",
    "        \n",
    "        save_checkpoint({\n",
    "            'epoch': epoch,\n",
    "            'model_state_dict': model.state_dict(),\n",
    "            'val_loss': val_loss,\n",
    "            'best_vali_loss': best_vali_loss,\n",
    "            'best_epoch': best_epoch,\n",
    "            'optimizer_label_state_dict' : optimizer.state_dict()\n",
    "        }, is_best, paths.output_path, filename='4bilstm_adam_'+str(epoch)+'.pth.tar')\n",
    "        \n",
    "        \n",
    "        end_time = time.time()\n",
    "        print_file_and_screen('Epoch time used: ', end_time - start_time, 's', f=f)\n",
    "        \n",
    "        f.close()\n",
    "    \n",
    "    # print summary to the file\n",
    "    with open(os.path.join(paths.output_path,'metrics.txt'), 'a') as f:\n",
    "        print_file_and_screen('Summary:', f=f)\n",
    "        print_file_and_screen('- Best Epoch: %1d | - Best Val Acc: %1d'%(best_epoch, best_vali_loss), f=f)\n"
   ]
  }
 ],
 "metadata": {
  "kernelspec": {
   "display_name": "Python 3",
   "language": "python",
   "name": "python3"
  },
  "language_info": {
   "codemirror_mode": {
    "name": "ipython",
    "version": 3
   },
   "file_extension": ".py",
   "mimetype": "text/x-python",
   "name": "python",
   "nbconvert_exporter": "python",
   "pygments_lexer": "ipython3",
   "version": "3.7.1"
  }
 },
 "nbformat": 4,
 "nbformat_minor": 2
}
