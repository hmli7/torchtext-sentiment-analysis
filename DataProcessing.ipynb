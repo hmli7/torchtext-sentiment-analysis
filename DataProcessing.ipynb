{
 "cells": [
  {
   "cell_type": "code",
   "execution_count": 1,
   "metadata": {},
   "outputs": [],
   "source": [
    "import spacy\n",
    "import os"
   ]
  },
  {
   "cell_type": "code",
   "execution_count": 2,
   "metadata": {},
   "outputs": [],
   "source": [
    "# load language model\n",
    "nlp = spacy.load(\"en_core_web_sm\")"
   ]
  },
  {
   "cell_type": "markdown",
   "metadata": {},
   "source": [
    "# Load data"
   ]
  },
  {
   "cell_type": "code",
   "execution_count": 2,
   "metadata": {},
   "outputs": [],
   "source": [
    "path = '.'\n",
    "input_path = os.path.join(path, 'hw7-handout')\n",
    "\n",
    "with open(os.path.join(input_path, 'dev_text.txt'), 'r', encoding='utf-8') as f:\n",
    "    dev_text = f.read().split('\\n')\n",
    "\n",
    "with open(os.path.join(input_path, 'heldout_text.txt'), 'r', encoding='utf-8') as f:\n",
    "    heldout_text = f.read().split('\\n')"
   ]
  },
  {
   "cell_type": "code",
   "execution_count": 4,
   "metadata": {},
   "outputs": [
    {
     "data": {
      "text/plain": [
       "2000"
      ]
     },
     "execution_count": 4,
     "metadata": {},
     "output_type": "execute_result"
    }
   ],
   "source": [
    "len(dev_text)"
   ]
  },
  {
   "cell_type": "code",
   "execution_count": 8,
   "metadata": {},
   "outputs": [
    {
     "data": {
      "text/plain": [
       "'I love this movie. it is great film that combines english and indian cultures with feminist-type issues, such as girls wanting to play sports that were previously reserved for men. it shows the struggles of both an indian person wanting to break outside her cultural barriers and women wanting to break outside the gender restrictions found in sports, especially in england at the time. i feel that the cultural struggles are more emphasized than the other issues.<br /><br />in contrast to the other comment, i do not think this movie is anything like dirty dancing or any other such chick flick. this move is loved by many types of people, men and women, young and old alike.'"
      ]
     },
     "execution_count": 8,
     "metadata": {},
     "output_type": "execute_result"
    }
   ],
   "source": [
    "dev_text[0]"
   ]
  },
  {
   "cell_type": "code",
   "execution_count": 16,
   "metadata": {},
   "outputs": [],
   "source": [
    "def processing_data(text_list):\n",
    "    '''processing data\n",
    "    remove non-word, punct, stop_words'''\n",
    "    processed_instances = []\n",
    "    for instance in text_list:\n",
    "        instance_words = []\n",
    "        doc = nlp(instance)\n",
    "        for token in doc:\n",
    "    #         print(token.text, token.lemma_, token.pos_, token.tag_, token.dep_,\n",
    "    #                 token.shape_, token.is_alpha, token.is_stop)\n",
    "            # remove non-word, punctuations, and stop words\n",
    "            if token.is_alpha and ~token.is_stop:\n",
    "                text = token.text.upper()\n",
    "                instance_words.append(text)\n",
    "        for chunk in doc.noun_chunks:\n",
    "            instance_words.append(chunk.text.upper())\n",
    "        processed_instances.append(instance_words)\n",
    "    return processed_instances"
   ]
  },
  {
   "cell_type": "code",
   "execution_count": 17,
   "metadata": {},
   "outputs": [],
   "source": [
    "dev_text_processed = processing_data(dev_text)"
   ]
  },
  {
   "cell_type": "code",
   "execution_count": 21,
   "metadata": {},
   "outputs": [],
   "source": [
    "heldout_text_processed = processing_data(heldout_text)"
   ]
  },
  {
   "cell_type": "code",
   "execution_count": 23,
   "metadata": {},
   "outputs": [],
   "source": [
    "import pickle\n",
    "with open(os.path.join(path, 'input', 'dev_text_processed.pkl'), 'wb') as f:\n",
    "    pickle.dump(dev_text_processed, f)"
   ]
  },
  {
   "cell_type": "code",
   "execution_count": 24,
   "metadata": {},
   "outputs": [],
   "source": [
    "import pickle\n",
    "with open(os.path.join(path, 'input', 'heldout_text_processed.pkl'), 'wb') as f:\n",
    "    pickle.dump(heldout_text_processed, f)"
   ]
  },
  {
   "cell_type": "code",
   "execution_count": null,
   "metadata": {},
   "outputs": [],
   "source": []
  }
 ],
 "metadata": {
  "kernelspec": {
   "display_name": "Python [conda env:nlp_env]",
   "language": "python",
   "name": "conda-env-nlp_env-py"
  },
  "language_info": {
   "codemirror_mode": {
    "name": "ipython",
    "version": 3
   },
   "file_extension": ".py",
   "mimetype": "text/x-python",
   "name": "python",
   "nbconvert_exporter": "python",
   "pygments_lexer": "ipython3",
   "version": "3.7.1"
  }
 },
 "nbformat": 4,
 "nbformat_minor": 2
}
